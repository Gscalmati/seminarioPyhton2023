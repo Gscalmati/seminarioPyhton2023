{
 "cells": [
  {
   "cell_type": "markdown",
   "id": "b015a19f",
   "metadata": {},
   "source": [
    "# Actividad 1  por Python plus - Parte I \n",
    "\n",
    "## Resolvé el siguiente desafío"
   ]
  },
  {
   "cell_type": "markdown",
   "id": "39711966",
   "metadata": {},
   "source": [
    "**EJERCICIO 1:** dado el archivo denominado [log_catedras](https://archivos.linti.unlp.edu.ar/index.php/s/ofgZh41dUYMYX6H) que contiene  el registro de  accesos al entorno catedras.linti, se desea:\n",
    "1. Generar una función que retorne los 5 usuarios que más actividad registran en este archivo y la cantidad de accesos registrados. Esta función recbe un parámetro opcional que indica el orden en que se ordenan los usuarios: \"A\", si se ordenan en forma ascendente, \"D\" si es descendente o \"None\" si no se aplica ningún orden. Por defecto la función no ordena. \n",
    "2. Escribir un programa que, utilizando la función anterior, muestre un listado similar al siguiente:\n",
    " \n",
    "```\n",
    "------------------------------------------\n",
    "Usuario en el sistema  Cantidad de accesos\n",
    "------------------------------------------\n",
    "Butterfree             78\n",
    "Pikachu                71\n",
    "Oddish                 67\n",
    "Kingler                65\n",
    "Tauros                 65\n",
    "```\n"
   ]
  },
  {
   "cell_type": "code",
   "execution_count": 3,
   "id": "324e84e9",
   "metadata": {},
   "outputs": [
    {
     "ename": "FileNotFoundError",
     "evalue": "[Errno 2] No such file or directory: 'C:\\\\Users\\\\Usuario\\\\log_catedras.csv'",
     "output_type": "error",
     "traceback": [
      "\u001b[1;31m---------------------------------------------------------------------------\u001b[0m",
      "\u001b[1;31mFileNotFoundError\u001b[0m                         Traceback (most recent call last)",
      "Cell \u001b[1;32mIn[3], line 29\u001b[0m\n\u001b[0;32m     27\u001b[0m ruta \u001b[39m=\u001b[39m os\u001b[39m.\u001b[39mpath\u001b[39m.\u001b[39mdirname(os\u001b[39m.\u001b[39mpath\u001b[39m.\u001b[39mrealpath(\u001b[39m'\u001b[39m\u001b[39m.\u001b[39m\u001b[39m'\u001b[39m))\n\u001b[0;32m     28\u001b[0m ruta_archivo \u001b[39m=\u001b[39m os\u001b[39m.\u001b[39mpath\u001b[39m.\u001b[39mjoin(ruta, \u001b[39m'\u001b[39m\u001b[39mlog_catedras.csv\u001b[39m\u001b[39m'\u001b[39m)\n\u001b[1;32m---> 29\u001b[0m archivo_poke \u001b[39m=\u001b[39m \u001b[39mopen\u001b[39;49m(ruta_archivo, \u001b[39m'\u001b[39;49m\u001b[39mr\u001b[39;49m\u001b[39m'\u001b[39;49m)\n\u001b[0;32m     31\u001b[0m \u001b[39m# Invoco funcion\u001b[39;00m\n\u001b[0;32m     32\u001b[0m usuarios \u001b[39m=\u001b[39m accesoUsuario(archivo_poke, \u001b[39m'\u001b[39m\u001b[39mNone\u001b[39m\u001b[39m'\u001b[39m)\n",
      "File \u001b[1;32mc:\\Users\\Usuario\\.pyenv\\pyenv-win\\versions\\3.11.2\\Lib\\site-packages\\IPython\\core\\interactiveshell.py:284\u001b[0m, in \u001b[0;36m_modified_open\u001b[1;34m(file, *args, **kwargs)\u001b[0m\n\u001b[0;32m    277\u001b[0m \u001b[39mif\u001b[39;00m file \u001b[39min\u001b[39;00m {\u001b[39m0\u001b[39m, \u001b[39m1\u001b[39m, \u001b[39m2\u001b[39m}:\n\u001b[0;32m    278\u001b[0m     \u001b[39mraise\u001b[39;00m \u001b[39mValueError\u001b[39;00m(\n\u001b[0;32m    279\u001b[0m         \u001b[39mf\u001b[39m\u001b[39m\"\u001b[39m\u001b[39mIPython won\u001b[39m\u001b[39m'\u001b[39m\u001b[39mt let you open fd=\u001b[39m\u001b[39m{\u001b[39;00mfile\u001b[39m}\u001b[39;00m\u001b[39m by default \u001b[39m\u001b[39m\"\u001b[39m\n\u001b[0;32m    280\u001b[0m         \u001b[39m\"\u001b[39m\u001b[39mas it is likely to crash IPython. If you know what you are doing, \u001b[39m\u001b[39m\"\u001b[39m\n\u001b[0;32m    281\u001b[0m         \u001b[39m\"\u001b[39m\u001b[39myou can use builtins\u001b[39m\u001b[39m'\u001b[39m\u001b[39m open.\u001b[39m\u001b[39m\"\u001b[39m\n\u001b[0;32m    282\u001b[0m     )\n\u001b[1;32m--> 284\u001b[0m \u001b[39mreturn\u001b[39;00m io_open(file, \u001b[39m*\u001b[39;49margs, \u001b[39m*\u001b[39;49m\u001b[39m*\u001b[39;49mkwargs)\n",
      "\u001b[1;31mFileNotFoundError\u001b[0m: [Errno 2] No such file or directory: 'C:\\\\Users\\\\Usuario\\\\log_catedras.csv'"
     ]
    }
   ],
   "source": [
    "# Solución\n",
    "import csv\n",
    "import os\n",
    "\n",
    "def accesoUsuario (archivo, orden='None'):\n",
    "    csvreaderDict = csv.DictReader(archivo, delimiter=',')\n",
    "    usuarios = {}\n",
    "\n",
    "    # Recorro archivo CSV verificando la existencia del campo en el dict USUARIOS, si existe, incremento, sino, creo campo nuevo\n",
    "    for linea in csvreaderDict:\n",
    "        nombreUsuario = linea['Nombre completo del usuario']\n",
    "        if nombreUsuario in usuarios:\n",
    "            usuarios[nombreUsuario] += 1\n",
    "        else:\n",
    "            usuarios[nombreUsuario] = 1\n",
    "\n",
    "    # Ordeno en base al parámetro opcional \"orden\"\n",
    "    if (orden == 'A'):\n",
    "        usuarios = sorted(usuarios.items(), key=lambda item: item[1], reverse=True)\n",
    "    elif (orden == 'D'):\n",
    "        usuarios = sorted(usuarios.items(), key=lambda item: item[1], reverse=False)\n",
    "\n",
    "    # Devuelvo los 5 primeros items\n",
    "    return tuple(usuarios.items())[0:5]\n",
    "\n",
    "# Defino rutas y abro el archivo\n",
    "ruta = os.path.dirname(os.path.realpath('.'))\n",
    "ruta_archivo = os.path.join(ruta, 'entregable1', 'log_catedras.csv')\n",
    "archivo_poke = open(ruta_archivo, 'r')\n",
    "\n",
    "# Invoco funcion\n",
    "usuarios = accesoUsuario(archivo_poke, 'None')\n",
    "\n",
    "# Imprimo información\n",
    "print('--------------------------------------------')\n",
    "print('Usuarios en el sistema - Cantidad de Accesos')\n",
    "print('--------------------------------------------')\n",
    "for usuario in usuarios:\n",
    "    print(f'{usuario[0]:22} - {usuario[1]:10}')\n",
    "\n",
    "# Cierro el archivo\n",
    "archivo_poke.close()"
   ]
  }
 ],
 "metadata": {
  "kernelspec": {
   "display_name": "Python 3 (ipykernel)",
   "language": "python",
   "name": "python3"
  },
  "language_info": {
   "codemirror_mode": {
    "name": "ipython",
    "version": 3
   },
   "file_extension": ".py",
   "mimetype": "text/x-python",
   "name": "python",
   "nbconvert_exporter": "python",
   "pygments_lexer": "ipython3",
   "version": "3.11.2"
  }
 },
 "nbformat": 4,
 "nbformat_minor": 5
}
